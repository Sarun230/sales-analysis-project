{
 "cells": [
  {
   "cell_type": "markdown",
   "id": "20bd4906",
   "metadata": {},
   "source": [
    "# 📊 Sales Analysis & Forecasting Project\n",
    "\n",
    "วิเคราะห์ข้อมูลยอดขาย และพยากรณ์รายได้จากจำนวนสินค้าที่ขายได้  \n",
    "เครื่องมือที่ใช้: Pandas, Matplotlib, scikit-learn\n"
   ]
  },
  {
   "cell_type": "code",
   "execution_count": null,
   "id": "1431040e",
   "metadata": {},
   "outputs": [],
   "source": [
    "#สร้างข้อมูล (หรือโหลดจากไฟล์)\n",
    "import pandas as pd\n",
    "\n",
    "data = {\n",
    "    \"date\": [\"2024-01-01\", \"2024-01-01\", \"2024-01-02\", \"2024-01-02\", \"2024-01-03\"],\n",
    "    \"product\": [\"Apple\", \"Banana\", \"Apple\", \"Banana\", \"Banana\"],\n",
    "    \"price\": [30, 15, 30, 15, 15],\n",
    "    \"quantity\": [10, 20, 8, 15, 25],\n",
    "    \"region\": [\"North\", \"South\", \"East\", \"North\", \"South\"]\n",
    "}\n",
    "df = pd.DataFrame(data)\n",
    "df['total'] = df[\"price\"] * df[\"quantity\"]\n",
    "df.head()\n"
   ]
  },
  {
   "cell_type": "code",
   "execution_count": null,
   "id": "c43fc5ff",
   "metadata": {},
   "outputs": [],
   "source": [
    "#วิเคราะห์ยอดขาย\n",
    "product_sales = df.groupby(\"product\")[\"total\"].sum()\n",
    "region_sales = df.groupby(\"region\")[\"total\"].sum()\n",
    "\n",
    "print(\"ยอดขายตามสินค้า:\\n\", product_sales)\n",
    "print(\"\\nยอดขายตามภูมิภาค:\\n\", region_sales)\n"
   ]
  },
  {
   "cell_type": "code",
   "execution_count": null,
   "id": "0587a2e1",
   "metadata": {},
   "outputs": [],
   "source": [
    "#วาดกราฟยอดขายตามภูมิภาค\n",
    "import matplotlib.pyplot as plt\n",
    "\n",
    "region_sales_df = region_sales.reset_index()\n",
    "plt.bar(region_sales_df[\"region\"], region_sales_df[\"total\"])\n",
    "plt.title(\"ยอดขายรวมแต่ละภูมิภาค\")\n",
    "plt.xlabel(\"Region\")\n",
    "plt.ylabel(\"Total Sales (บาท)\")\n",
    "plt.show()\n",
    "\n"
   ]
  },
  {
   "cell_type": "code",
   "execution_count": null,
   "id": "e9ecfeca",
   "metadata": {},
   "outputs": [],
   "source": [
    "#พยากรณ์ยอดขายด้วย ML\n",
    "from sklearn.linear_model import LinearRegression\n",
    "\n",
    "X = df[[\"quantity\"]]\n",
    "y = df[\"total\"]\n",
    "\n",
    "model = LinearRegression()\n",
    "model.fit(X, y)\n",
    "\n",
    "predicted = model.predict([[12]])\n",
    "print(f\"ถ้าขายได้ 12 ชิ้น --> คาดว่าจะได้เงินประมาณ {predicted[0]:.2f} บาท\") #{predicted[0]-->9(ตัวแรกที่โมเดลที่เริ่มทำนาย)  :.2f(ปัดทศนิยมสองตำแหน่ง)}\n"
   ]
  }
 ],
 "metadata": {
  "language_info": {
   "name": "python"
  }
 },
 "nbformat": 4,
 "nbformat_minor": 5
}
